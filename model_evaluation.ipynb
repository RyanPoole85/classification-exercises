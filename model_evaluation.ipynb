{
 "cells": [
  {
   "cell_type": "code",
   "execution_count": 11,
   "id": "67aa30f4",
   "metadata": {},
   "outputs": [],
   "source": [
    "import pandas as pd\n",
    "import numpy as np\n",
    "\n",
    "import matplotlib.pyplot as plt\n",
    "import seaborn as sns\n",
    "\n",
    "import env"
   ]
  },
  {
   "cell_type": "markdown",
   "id": "9297bda4",
   "metadata": {},
   "source": [
    "2. Given the following confusion matrix, evaluate (by hand) the model's performance."
   ]
  },
  {
   "cell_type": "markdown",
   "id": "33bdd714",
   "metadata": {},
   "source": [
    "|               | pred dog   | pred cat   |\n",
    "|:------------  |-----------:|-----------:|\n",
    "| actual dog    |         46 |         7  |\n",
    "| actual cat    |         13 |         34 |\n"
   ]
  },
  {
   "cell_type": "code",
   "execution_count": 2,
   "id": "95479584",
   "metadata": {},
   "outputs": [
    {
     "data": {
      "text/plain": [
       "53"
      ]
     },
     "execution_count": 2,
     "metadata": {},
     "output_type": "execute_result"
    }
   ],
   "source": [
    "#establish baseline assuming a dog is a positive\n",
    "#actual dog\n",
    "46+7"
   ]
  },
  {
   "cell_type": "code",
   "execution_count": 3,
   "id": "02088878",
   "metadata": {},
   "outputs": [
    {
     "data": {
      "text/plain": [
       "47"
      ]
     },
     "execution_count": 3,
     "metadata": {},
     "output_type": "execute_result"
    }
   ],
   "source": [
    "#actual not dog\n",
    "13+34"
   ]
  },
  {
   "cell_type": "code",
   "execution_count": 5,
   "id": "50d963d6",
   "metadata": {},
   "outputs": [
    {
     "data": {
      "text/plain": [
       "0.53"
      ]
     },
     "execution_count": 5,
     "metadata": {},
     "output_type": "execute_result"
    }
   ],
   "source": [
    "#baseline\n",
    "53/(53+47)"
   ]
  },
  {
   "cell_type": "markdown",
   "id": "3cebfa4e",
   "metadata": {},
   "source": [
    "#accuracy\n",
    "\n",
    "TP + TN /\n",
    "TP + TN + FP + FN\n"
   ]
  },
  {
   "cell_type": "code",
   "execution_count": 7,
   "id": "80156cf4",
   "metadata": {},
   "outputs": [
    {
     "data": {
      "text/plain": [
       "0.8"
      ]
     },
     "execution_count": 7,
     "metadata": {},
     "output_type": "execute_result"
    }
   ],
   "source": [
    "(46+34)/(46+34+13+7)"
   ]
  },
  {
   "cell_type": "markdown",
   "id": "7365b2cc",
   "metadata": {},
   "source": [
    "#precision\n",
    "\n",
    "TP/TP +FP"
   ]
  },
  {
   "cell_type": "code",
   "execution_count": 8,
   "id": "e36ac668",
   "metadata": {},
   "outputs": [
    {
     "data": {
      "text/plain": [
       "0.7796610169491526"
      ]
     },
     "execution_count": 8,
     "metadata": {},
     "output_type": "execute_result"
    }
   ],
   "source": [
    "46/(46+13)"
   ]
  },
  {
   "cell_type": "markdown",
   "id": "ad5f471d",
   "metadata": {},
   "source": [
    "#recall\n",
    "\n",
    "TP/TP+FN"
   ]
  },
  {
   "cell_type": "code",
   "execution_count": 9,
   "id": "a4f37f54",
   "metadata": {},
   "outputs": [
    {
     "data": {
      "text/plain": [
       "0.8679245283018868"
      ]
     },
     "execution_count": 9,
     "metadata": {},
     "output_type": "execute_result"
    }
   ],
   "source": [
    "46/(46+7)"
   ]
  },
  {
   "cell_type": "markdown",
   "id": "2d608143",
   "metadata": {},
   "source": [
    "In the context of this problem, what is a false positive?\n",
    "\n"
   ]
  },
  {
   "cell_type": "markdown",
   "id": "da347822",
   "metadata": {},
   "source": [
    "Predicting dog but it's actually a cat"
   ]
  },
  {
   "cell_type": "markdown",
   "id": "8404436f",
   "metadata": {},
   "source": [
    "In the context of this problem, what is a false negative?"
   ]
  },
  {
   "cell_type": "markdown",
   "id": "c221f540",
   "metadata": {},
   "source": [
    "Predicting cat but it's actually a dog"
   ]
  },
  {
   "cell_type": "markdown",
   "id": "4f92e42f",
   "metadata": {},
   "source": [
    "How would you describe this model?"
   ]
  },
  {
   "cell_type": "markdown",
   "id": "01d04e9e",
   "metadata": {},
   "source": [
    "I would say this model is very accurate based on accuracy, precision, and recall metrics."
   ]
  },
  {
   "cell_type": "markdown",
   "id": "20c59c4f",
   "metadata": {},
   "source": [
    "3. You are working as a datascientist working for Codeup Cody Creator (C3 for short), a rubber-duck manufacturing plant.\n",
    "\n",
    "Unfortunately, some of the rubber ducks that are produced will have defects. Your team has built several models that try to predict those defects, and the data from their predictions can be found here.\n",
    "\n",
    "Use the predictions dataset and pandas to help answer the following questions:\n",
    "\n",
    "\n"
   ]
  },
  {
   "cell_type": "code",
   "execution_count": 14,
   "id": "9ddd1d3c",
   "metadata": {},
   "outputs": [
    {
     "data": {
      "text/html": [
       "<div>\n",
       "<style scoped>\n",
       "    .dataframe tbody tr th:only-of-type {\n",
       "        vertical-align: middle;\n",
       "    }\n",
       "\n",
       "    .dataframe tbody tr th {\n",
       "        vertical-align: top;\n",
       "    }\n",
       "\n",
       "    .dataframe thead th {\n",
       "        text-align: right;\n",
       "    }\n",
       "</style>\n",
       "<table border=\"1\" class=\"dataframe\">\n",
       "  <thead>\n",
       "    <tr style=\"text-align: right;\">\n",
       "      <th></th>\n",
       "      <th>actual</th>\n",
       "      <th>model1</th>\n",
       "      <th>model2</th>\n",
       "      <th>model3</th>\n",
       "    </tr>\n",
       "  </thead>\n",
       "  <tbody>\n",
       "    <tr>\n",
       "      <th>0</th>\n",
       "      <td>No Defect</td>\n",
       "      <td>No Defect</td>\n",
       "      <td>Defect</td>\n",
       "      <td>No Defect</td>\n",
       "    </tr>\n",
       "    <tr>\n",
       "      <th>1</th>\n",
       "      <td>No Defect</td>\n",
       "      <td>No Defect</td>\n",
       "      <td>Defect</td>\n",
       "      <td>Defect</td>\n",
       "    </tr>\n",
       "    <tr>\n",
       "      <th>2</th>\n",
       "      <td>No Defect</td>\n",
       "      <td>No Defect</td>\n",
       "      <td>Defect</td>\n",
       "      <td>No Defect</td>\n",
       "    </tr>\n",
       "    <tr>\n",
       "      <th>3</th>\n",
       "      <td>No Defect</td>\n",
       "      <td>Defect</td>\n",
       "      <td>Defect</td>\n",
       "      <td>Defect</td>\n",
       "    </tr>\n",
       "    <tr>\n",
       "      <th>4</th>\n",
       "      <td>No Defect</td>\n",
       "      <td>No Defect</td>\n",
       "      <td>Defect</td>\n",
       "      <td>No Defect</td>\n",
       "    </tr>\n",
       "  </tbody>\n",
       "</table>\n",
       "</div>"
      ],
      "text/plain": [
       "      actual     model1  model2     model3\n",
       "0  No Defect  No Defect  Defect  No Defect\n",
       "1  No Defect  No Defect  Defect     Defect\n",
       "2  No Defect  No Defect  Defect  No Defect\n",
       "3  No Defect     Defect  Defect     Defect\n",
       "4  No Defect  No Defect  Defect  No Defect"
      ]
     },
     "execution_count": 14,
     "metadata": {},
     "output_type": "execute_result"
    }
   ],
   "source": [
    "df = pd.read_clipboard()\n",
    "df.head()"
   ]
  },
  {
   "cell_type": "markdown",
   "id": "36c11743",
   "metadata": {},
   "source": [
    "An internal team wants to investigate the cause of the manufacturing defects. They tell you that they want to identify as many of the ducks that have a defect as possible.  "
   ]
  },
  {
   "cell_type": "markdown",
   "id": "862522e9",
   "metadata": {},
   "source": [
    "Which evaluation metric would be appropriate here?"
   ]
  },
  {
   "cell_type": "markdown",
   "id": "bad9247f",
   "metadata": {},
   "source": [
    "Recall"
   ]
  },
  {
   "cell_type": "markdown",
   "id": "3a8e1a4d",
   "metadata": {},
   "source": [
    "Which model would be the best fit for this use case? model3"
   ]
  },
  {
   "cell_type": "code",
   "execution_count": 15,
   "id": "12b91c60",
   "metadata": {},
   "outputs": [
    {
     "data": {
      "text/plain": [
       "0.08"
      ]
     },
     "execution_count": 15,
     "metadata": {},
     "output_type": "execute_result"
    }
   ],
   "source": [
    "#baseline\n",
    "(df.actual == 'Defect').mean()"
   ]
  },
  {
   "cell_type": "code",
   "execution_count": 19,
   "id": "acfb4c8d",
   "metadata": {},
   "outputs": [
    {
     "data": {
      "text/html": [
       "<div>\n",
       "<style scoped>\n",
       "    .dataframe tbody tr th:only-of-type {\n",
       "        vertical-align: middle;\n",
       "    }\n",
       "\n",
       "    .dataframe tbody tr th {\n",
       "        vertical-align: top;\n",
       "    }\n",
       "\n",
       "    .dataframe thead th {\n",
       "        text-align: right;\n",
       "    }\n",
       "</style>\n",
       "<table border=\"1\" class=\"dataframe\">\n",
       "  <thead>\n",
       "    <tr style=\"text-align: right;\">\n",
       "      <th>model1</th>\n",
       "      <th>Defect</th>\n",
       "      <th>No Defect</th>\n",
       "    </tr>\n",
       "    <tr>\n",
       "      <th>actual</th>\n",
       "      <th></th>\n",
       "      <th></th>\n",
       "    </tr>\n",
       "  </thead>\n",
       "  <tbody>\n",
       "    <tr>\n",
       "      <th>Defect</th>\n",
       "      <td>8</td>\n",
       "      <td>8</td>\n",
       "    </tr>\n",
       "    <tr>\n",
       "      <th>No Defect</th>\n",
       "      <td>2</td>\n",
       "      <td>182</td>\n",
       "    </tr>\n",
       "  </tbody>\n",
       "</table>\n",
       "</div>"
      ],
      "text/plain": [
       "model1     Defect  No Defect\n",
       "actual                      \n",
       "Defect          8          8\n",
       "No Defect       2        182"
      ]
     },
     "execution_count": 19,
     "metadata": {},
     "output_type": "execute_result"
    }
   ],
   "source": [
    "#confusion matrix\n",
    "counts1 = pd.crosstab(df.actual, df.model1)\n",
    "counts2 = pd.crosstab(df.actual, df.model2)\n",
    "counts3 = pd.crosstab(df.actual, df.model3)\n",
    "counts1"
   ]
  },
  {
   "cell_type": "code",
   "execution_count": 21,
   "id": "3919d820",
   "metadata": {},
   "outputs": [],
   "source": [
    "tp1 = counts1.iloc[0,0] #rows, columns\n",
    "fn1 = counts1.iloc[0,1]\n",
    "fp1 = counts1.iloc[1,0]\n",
    "tn1 = counts1.iloc[1,1]"
   ]
  },
  {
   "cell_type": "code",
   "execution_count": 22,
   "id": "09121ce4",
   "metadata": {},
   "outputs": [
    {
     "data": {
      "text/plain": [
       "(8, 8, 2, 182)"
      ]
     },
     "execution_count": 22,
     "metadata": {},
     "output_type": "execute_result"
    }
   ],
   "source": [
    "tp1, fn1, fp1, tn1"
   ]
  },
  {
   "cell_type": "code",
   "execution_count": 26,
   "id": "0768b8bb",
   "metadata": {},
   "outputs": [],
   "source": [
    "tp2 = counts2.iloc[0,0] #rows, columns\n",
    "fn2 = counts2.iloc[0,1]\n",
    "fp2 = counts2.iloc[1,0]\n",
    "tn2 = counts2.iloc[1,1]"
   ]
  },
  {
   "cell_type": "code",
   "execution_count": 27,
   "id": "bb90e2fa",
   "metadata": {},
   "outputs": [
    {
     "data": {
      "text/plain": [
       "(9, 7, 81, 103)"
      ]
     },
     "execution_count": 27,
     "metadata": {},
     "output_type": "execute_result"
    }
   ],
   "source": [
    "tp2, fn2, fp2, tn2"
   ]
  },
  {
   "cell_type": "code",
   "execution_count": 30,
   "id": "9399d762",
   "metadata": {},
   "outputs": [],
   "source": [
    "tp3 = counts3.iloc[0,0] #rows, columns\n",
    "fn3 = counts3.iloc[0,1]\n",
    "fp3 = counts3.iloc[1,0]\n",
    "tn3 = counts3.iloc[1,1]"
   ]
  },
  {
   "cell_type": "code",
   "execution_count": 31,
   "id": "682b8153",
   "metadata": {},
   "outputs": [
    {
     "data": {
      "text/plain": [
       "(13, 3, 86, 98)"
      ]
     },
     "execution_count": 31,
     "metadata": {},
     "output_type": "execute_result"
    }
   ],
   "source": [
    "tp3, fn3, fp3, tn3"
   ]
  },
  {
   "cell_type": "code",
   "execution_count": 23,
   "id": "3c7520de",
   "metadata": {},
   "outputs": [],
   "source": [
    "pos_actuals = df [df.actual == 'Defect']"
   ]
  },
  {
   "cell_type": "code",
   "execution_count": 28,
   "id": "1b3b2b55",
   "metadata": {},
   "outputs": [
    {
     "data": {
      "text/plain": [
       "0.5"
      ]
     },
     "execution_count": 28,
     "metadata": {},
     "output_type": "execute_result"
    }
   ],
   "source": [
    "#model1 recall\n",
    "(pos_actuals.actual == pos_actuals.model1).mean()"
   ]
  },
  {
   "cell_type": "code",
   "execution_count": 29,
   "id": "86c1c6fb",
   "metadata": {},
   "outputs": [
    {
     "data": {
      "text/plain": [
       "0.5625"
      ]
     },
     "execution_count": 29,
     "metadata": {},
     "output_type": "execute_result"
    }
   ],
   "source": [
    "#model2 recall\n",
    "(pos_actuals.actual == pos_actuals.model2).mean()"
   ]
  },
  {
   "cell_type": "code",
   "execution_count": 32,
   "id": "99f7492a",
   "metadata": {},
   "outputs": [
    {
     "data": {
      "text/plain": [
       "0.8125"
      ]
     },
     "execution_count": 32,
     "metadata": {},
     "output_type": "execute_result"
    }
   ],
   "source": [
    "#model3 recall\n",
    "(pos_actuals.actual == pos_actuals.model3).mean()"
   ]
  },
  {
   "cell_type": "markdown",
   "id": "6441aefc",
   "metadata": {},
   "source": [
    "model3 picked up 81.25% of the defects so it is the best fir in this case"
   ]
  },
  {
   "cell_type": "markdown",
   "id": "fcf94481",
   "metadata": {},
   "source": [
    "Recently several stories in the local news have come out highlighting customers who received a rubber duck with a defect, and portraying C3 in a bad light. The PR team has decided to launch a program that gives customers with a defective duck a vacation to Hawaii. They need you to predict which ducks will have defects, but tell you the really don't want to accidentally give out a vacation package when the duck really doesn't have a defect.  "
   ]
  },
  {
   "cell_type": "markdown",
   "id": "1ca771cc",
   "metadata": {},
   "source": [
    "Which evaluation metric would be appropriate here?"
   ]
  },
  {
   "cell_type": "markdown",
   "id": "a22dc162",
   "metadata": {},
   "source": [
    "Precision"
   ]
  },
  {
   "cell_type": "markdown",
   "id": "d9340510",
   "metadata": {},
   "source": [
    "Which model would be the best fit for this use case?"
   ]
  },
  {
   "cell_type": "code",
   "execution_count": 45,
   "id": "b2140581",
   "metadata": {},
   "outputs": [],
   "source": [
    "pos_predictions = df [df.model1 == 'Defect']"
   ]
  },
  {
   "cell_type": "code",
   "execution_count": 46,
   "id": "83f0de1f",
   "metadata": {},
   "outputs": [
    {
     "data": {
      "text/plain": [
       "0.8"
      ]
     },
     "execution_count": 46,
     "metadata": {},
     "output_type": "execute_result"
    }
   ],
   "source": [
    "(pos_predictions.actual == pos_predictions.model1).mean()"
   ]
  },
  {
   "cell_type": "code",
   "execution_count": 47,
   "id": "503b0e94",
   "metadata": {},
   "outputs": [],
   "source": [
    "pos_predictions = df [df.model2 == 'Defect']"
   ]
  },
  {
   "cell_type": "code",
   "execution_count": 48,
   "id": "ba202c29",
   "metadata": {},
   "outputs": [
    {
     "data": {
      "text/plain": [
       "0.1"
      ]
     },
     "execution_count": 48,
     "metadata": {},
     "output_type": "execute_result"
    }
   ],
   "source": [
    "(pos_predictions.actual == pos_predictions.model2).mean()"
   ]
  },
  {
   "cell_type": "code",
   "execution_count": 49,
   "id": "fe5132a5",
   "metadata": {},
   "outputs": [],
   "source": [
    "pos_predictions = df [df.model3 == 'Defect']"
   ]
  },
  {
   "cell_type": "code",
   "execution_count": 50,
   "id": "df2ca860",
   "metadata": {},
   "outputs": [
    {
     "data": {
      "text/plain": [
       "0.13131313131313133"
      ]
     },
     "execution_count": 50,
     "metadata": {},
     "output_type": "execute_result"
    }
   ],
   "source": [
    "(pos_predictions.actual == pos_predictions.model3).mean()"
   ]
  },
  {
   "cell_type": "markdown",
   "id": "079b670e",
   "metadata": {},
   "source": [
    "model1 is the best fit in this case based on it's precision"
   ]
  },
  {
   "cell_type": "markdown",
   "id": "95963850",
   "metadata": {},
   "source": [
    "4. You are working as a data scientist for Gives You Paws ™, a subscription based service that shows you cute pictures of dogs or cats (or both for an additional fee).\n",
    "\n",
    "At Gives You Paws, anyone can upload pictures of their cats or dogs. The photos are then put through a two step process. First an automated algorithm tags pictures as either a cat or a dog (Phase I). Next, the photos that have been initially identified are put through another round of review, possibly with some human oversight, before being presented to the users (Phase II).\n",
    "\n",
    "Several models have already been developed with the data, and you can find their results here.\n",
    "\n",
    "Given this dataset, use pandas to create a baseline model (i.e. a model that just predicts the most common class) and answer the following questions:\n",
    "\n",
    "\n",
    "\n"
   ]
  },
  {
   "cell_type": "code",
   "execution_count": 56,
   "id": "e44d089a",
   "metadata": {},
   "outputs": [
    {
     "data": {
      "text/html": [
       "<div>\n",
       "<style scoped>\n",
       "    .dataframe tbody tr th:only-of-type {\n",
       "        vertical-align: middle;\n",
       "    }\n",
       "\n",
       "    .dataframe tbody tr th {\n",
       "        vertical-align: top;\n",
       "    }\n",
       "\n",
       "    .dataframe thead th {\n",
       "        text-align: right;\n",
       "    }\n",
       "</style>\n",
       "<table border=\"1\" class=\"dataframe\">\n",
       "  <thead>\n",
       "    <tr style=\"text-align: right;\">\n",
       "      <th></th>\n",
       "      <th>actual</th>\n",
       "      <th>model1</th>\n",
       "      <th>model2</th>\n",
       "      <th>model3</th>\n",
       "      <th>model4</th>\n",
       "    </tr>\n",
       "  </thead>\n",
       "  <tbody>\n",
       "    <tr>\n",
       "      <th>0</th>\n",
       "      <td>cat</td>\n",
       "      <td>cat</td>\n",
       "      <td>dog</td>\n",
       "      <td>cat</td>\n",
       "      <td>dog</td>\n",
       "    </tr>\n",
       "    <tr>\n",
       "      <th>1</th>\n",
       "      <td>dog</td>\n",
       "      <td>dog</td>\n",
       "      <td>cat</td>\n",
       "      <td>cat</td>\n",
       "      <td>dog</td>\n",
       "    </tr>\n",
       "    <tr>\n",
       "      <th>2</th>\n",
       "      <td>dog</td>\n",
       "      <td>cat</td>\n",
       "      <td>cat</td>\n",
       "      <td>cat</td>\n",
       "      <td>dog</td>\n",
       "    </tr>\n",
       "    <tr>\n",
       "      <th>3</th>\n",
       "      <td>dog</td>\n",
       "      <td>dog</td>\n",
       "      <td>dog</td>\n",
       "      <td>cat</td>\n",
       "      <td>dog</td>\n",
       "    </tr>\n",
       "    <tr>\n",
       "      <th>4</th>\n",
       "      <td>cat</td>\n",
       "      <td>cat</td>\n",
       "      <td>cat</td>\n",
       "      <td>dog</td>\n",
       "      <td>dog</td>\n",
       "    </tr>\n",
       "  </tbody>\n",
       "</table>\n",
       "</div>"
      ],
      "text/plain": [
       "  actual model1 model2 model3 model4\n",
       "0    cat    cat    dog    cat    dog\n",
       "1    dog    dog    cat    cat    dog\n",
       "2    dog    cat    cat    cat    dog\n",
       "3    dog    dog    dog    cat    dog\n",
       "4    cat    cat    cat    dog    dog"
      ]
     },
     "execution_count": 56,
     "metadata": {},
     "output_type": "execute_result"
    }
   ],
   "source": [
    "pet_df = pd.read_clipboard()\n",
    "pet_df.head()"
   ]
  },
  {
   "cell_type": "code",
   "execution_count": 57,
   "id": "8aa60740",
   "metadata": {},
   "outputs": [
    {
     "data": {
      "text/plain": [
       "actual\n",
       "dog    3254\n",
       "cat    1746\n",
       "Name: count, dtype: int64"
      ]
     },
     "execution_count": 57,
     "metadata": {},
     "output_type": "execute_result"
    }
   ],
   "source": [
    "pet_df.actual.value_counts()"
   ]
  },
  {
   "cell_type": "code",
   "execution_count": 58,
   "id": "d7cbb23f",
   "metadata": {},
   "outputs": [
    {
     "data": {
      "text/plain": [
       "0.6508"
      ]
     },
     "execution_count": 58,
     "metadata": {},
     "output_type": "execute_result"
    }
   ],
   "source": [
    "#baseline\n",
    "(pet_df.actual == 'dog').mean()"
   ]
  },
  {
   "cell_type": "code",
   "execution_count": 59,
   "id": "9a5f224d",
   "metadata": {},
   "outputs": [
    {
     "data": {
      "text/plain": [
       "0.6506"
      ]
     },
     "execution_count": 59,
     "metadata": {},
     "output_type": "execute_result"
    }
   ],
   "source": [
    "3253/(3254+1746)"
   ]
  },
  {
   "cell_type": "markdown",
   "id": "b6fe528b",
   "metadata": {},
   "source": [
    "dog is my positive class"
   ]
  },
  {
   "cell_type": "markdown",
   "id": "121ae344",
   "metadata": {},
   "source": [
    "a. In terms of accuracy, how do the various models compare to the baseline model? "
   ]
  },
  {
   "cell_type": "markdown",
   "id": "7c01c324",
   "metadata": {},
   "source": [
    "model1 has the highest accuracy with 81%"
   ]
  },
  {
   "cell_type": "markdown",
   "id": "d31915f5",
   "metadata": {},
   "source": [
    "Are any of the models better than the baseline?"
   ]
  },
  {
   "cell_type": "markdown",
   "id": "80e3f08f",
   "metadata": {},
   "source": [
    "model1(81%) and model4(74%) are higher than the baseline model of 65%."
   ]
  },
  {
   "cell_type": "markdown",
   "id": "71d53c4a",
   "metadata": {},
   "source": [
    "accuracy = \n",
    "\n",
    "TP + TN /\n",
    "\n",
    "TP + TN + FP + FN\n"
   ]
  },
  {
   "cell_type": "code",
   "execution_count": 75,
   "id": "0cb29c96",
   "metadata": {
    "scrolled": true
   },
   "outputs": [
    {
     "data": {
      "text/html": [
       "<div>\n",
       "<style scoped>\n",
       "    .dataframe tbody tr th:only-of-type {\n",
       "        vertical-align: middle;\n",
       "    }\n",
       "\n",
       "    .dataframe tbody tr th {\n",
       "        vertical-align: top;\n",
       "    }\n",
       "\n",
       "    .dataframe thead th {\n",
       "        text-align: right;\n",
       "    }\n",
       "</style>\n",
       "<table border=\"1\" class=\"dataframe\">\n",
       "  <thead>\n",
       "    <tr style=\"text-align: right;\">\n",
       "      <th>model4</th>\n",
       "      <th>cat</th>\n",
       "      <th>dog</th>\n",
       "    </tr>\n",
       "    <tr>\n",
       "      <th>actual</th>\n",
       "      <th></th>\n",
       "      <th></th>\n",
       "    </tr>\n",
       "  </thead>\n",
       "  <tbody>\n",
       "    <tr>\n",
       "      <th>cat</th>\n",
       "      <td>603</td>\n",
       "      <td>1143</td>\n",
       "    </tr>\n",
       "    <tr>\n",
       "      <th>dog</th>\n",
       "      <td>144</td>\n",
       "      <td>3110</td>\n",
       "    </tr>\n",
       "  </tbody>\n",
       "</table>\n",
       "</div>"
      ],
      "text/plain": [
       "model4  cat   dog\n",
       "actual           \n",
       "cat     603  1143\n",
       "dog     144  3110"
      ]
     },
     "execution_count": 75,
     "metadata": {},
     "output_type": "execute_result"
    }
   ],
   "source": [
    "pets1 = pd.crosstab(pet_df.actual, pet_df.model1)\n",
    "pets2 = pd.crosstab(pet_df.actual, pet_df.model2)\n",
    "pets3 = pd.crosstab(pet_df.actual, pet_df.model3)\n",
    "pets4 = pd.crosstab(pet_df.actual, pet_df.model4)\n",
    "pets1\n",
    "pets2\n",
    "pets3\n",
    "pets4"
   ]
  },
  {
   "cell_type": "code",
   "execution_count": 62,
   "id": "b541712e",
   "metadata": {},
   "outputs": [],
   "source": [
    "pet1_tp = pets1.iloc[0,0] #rows, columns\n",
    "pet1_fn = pets1.iloc[0,1]\n",
    "pet1_fp = pets1.iloc[1,0]\n",
    "pet1_tn = pets1.iloc[1,1]"
   ]
  },
  {
   "cell_type": "code",
   "execution_count": 63,
   "id": "cc958533",
   "metadata": {},
   "outputs": [],
   "source": [
    "pet2_tp = pets2.iloc[0,0] #rows, columns\n",
    "pet2_fn = pets2.iloc[0,1]\n",
    "pet2_fp = pets2.iloc[1,0]\n",
    "pet2_tn = pets2.iloc[1,1]"
   ]
  },
  {
   "cell_type": "code",
   "execution_count": 64,
   "id": "e6c414cc",
   "metadata": {},
   "outputs": [],
   "source": [
    "pet3_tp = pets3.iloc[0,0] #rows, columns\n",
    "pet3_fn = pets3.iloc[0,1]\n",
    "pet3_fp = pets3.iloc[1,0]\n",
    "pet3_tn = pets3.iloc[1,1]"
   ]
  },
  {
   "cell_type": "code",
   "execution_count": 65,
   "id": "98bee4f8",
   "metadata": {},
   "outputs": [],
   "source": [
    "pet4_tp = pets4.iloc[0,0] #rows, columns\n",
    "pet4_fn = pets4.iloc[0,1]\n",
    "pet4_fp = pets4.iloc[1,0]\n",
    "pet4_tn = pets4.iloc[1,1]"
   ]
  },
  {
   "cell_type": "code",
   "execution_count": 61,
   "id": "73a6fcf9",
   "metadata": {},
   "outputs": [
    {
     "data": {
      "text/plain": [
       "0.8074"
      ]
     },
     "execution_count": 61,
     "metadata": {},
     "output_type": "execute_result"
    }
   ],
   "source": [
    "(pet_df.actual == pet_df.model1).mean()"
   ]
  },
  {
   "cell_type": "code",
   "execution_count": 66,
   "id": "7990684b",
   "metadata": {},
   "outputs": [
    {
     "data": {
      "text/plain": [
       "0.8074"
      ]
     },
     "execution_count": 66,
     "metadata": {},
     "output_type": "execute_result"
    }
   ],
   "source": [
    "(pet1_tp + pet1_tn) / (pet1_tp + pet1_tn + pet1_fp + pet1_fn)"
   ]
  },
  {
   "cell_type": "code",
   "execution_count": 67,
   "id": "b94df54e",
   "metadata": {
    "scrolled": true
   },
   "outputs": [
    {
     "data": {
      "text/plain": [
       "0.6304"
      ]
     },
     "execution_count": 67,
     "metadata": {},
     "output_type": "execute_result"
    }
   ],
   "source": [
    "(pet_df.actual == pet_df.model2).mean()"
   ]
  },
  {
   "cell_type": "code",
   "execution_count": 68,
   "id": "6d0d97ec",
   "metadata": {},
   "outputs": [
    {
     "data": {
      "text/plain": [
       "0.6304"
      ]
     },
     "execution_count": 68,
     "metadata": {},
     "output_type": "execute_result"
    }
   ],
   "source": [
    "(pet2_tp + pet2_tn) / (pet2_tp + pet2_tn + pet2_fp + pet2_fn)"
   ]
  },
  {
   "cell_type": "code",
   "execution_count": 69,
   "id": "b1ea63ff",
   "metadata": {},
   "outputs": [
    {
     "data": {
      "text/plain": [
       "0.5096"
      ]
     },
     "execution_count": 69,
     "metadata": {},
     "output_type": "execute_result"
    }
   ],
   "source": [
    "(pet_df.actual == pet_df.model3).mean()"
   ]
  },
  {
   "cell_type": "code",
   "execution_count": 70,
   "id": "da3158e3",
   "metadata": {},
   "outputs": [
    {
     "data": {
      "text/plain": [
       "0.5096"
      ]
     },
     "execution_count": 70,
     "metadata": {},
     "output_type": "execute_result"
    }
   ],
   "source": [
    "(pet3_tp + pet3_tn) / (pet3_tp + pet3_tn + pet3_fp + pet3_fn)"
   ]
  },
  {
   "cell_type": "code",
   "execution_count": 71,
   "id": "2e0f0c95",
   "metadata": {},
   "outputs": [
    {
     "data": {
      "text/plain": [
       "0.7426"
      ]
     },
     "execution_count": 71,
     "metadata": {},
     "output_type": "execute_result"
    }
   ],
   "source": [
    "(pet_df.actual == pet_df.model4).mean()"
   ]
  },
  {
   "cell_type": "code",
   "execution_count": 72,
   "id": "d15f68a4",
   "metadata": {},
   "outputs": [
    {
     "data": {
      "text/plain": [
       "0.7426"
      ]
     },
     "execution_count": 72,
     "metadata": {},
     "output_type": "execute_result"
    }
   ],
   "source": [
    "(pet4_tp + pet4_tn) / (pet4_tp + pet4_tn + pet4_fp + pet4_fn)"
   ]
  },
  {
   "cell_type": "markdown",
   "id": "3cad52ea",
   "metadata": {},
   "source": [
    "b. Suppose you are working on a team that solely deals with dog pictures. Which of these models would you recommend?"
   ]
  },
  {
   "cell_type": "code",
   "execution_count": 77,
   "id": "39b21884",
   "metadata": {},
   "outputs": [
    {
     "name": "stdout",
     "output_type": "stream",
     "text": [
      "model1   cat   dog\n",
      "actual            \n",
      "cat     1423   323\n",
      "dog      640  2614\n",
      "\n",
      "model2   cat   dog\n",
      "actual            \n",
      "cat     1555   191\n",
      "dog     1657  1597\n",
      "\n",
      "model3   cat   dog\n",
      "actual            \n",
      "cat      893   853\n",
      "dog     1599  1655\n",
      "\n",
      "model4  cat   dog\n",
      "actual           \n",
      "cat     603  1143\n",
      "dog     144  3110\n"
     ]
    }
   ],
   "source": [
    "print(pets1)\n",
    "print('')\n",
    "print(pets2)\n",
    "print('')\n",
    "print(pets3)\n",
    "print('')\n",
    "print(pets4)"
   ]
  },
  {
   "cell_type": "markdown",
   "id": "f04868be",
   "metadata": {},
   "source": [
    ">precision to minimize false positives to avoid getting cat pictures"
   ]
  },
  {
   "cell_type": "code",
   "execution_count": 86,
   "id": "9014004a",
   "metadata": {},
   "outputs": [],
   "source": [
    "dog_pos_predictions1 = pet_df [pet_df.model1 == 'dog']"
   ]
  },
  {
   "cell_type": "code",
   "execution_count": 87,
   "id": "a202e957",
   "metadata": {},
   "outputs": [
    {
     "data": {
      "text/plain": [
       "0.8900238338440586"
      ]
     },
     "execution_count": 87,
     "metadata": {},
     "output_type": "execute_result"
    }
   ],
   "source": [
    "(dog_pos_predictions.actual == dog_pos_predictions1.model1).mean()"
   ]
  },
  {
   "cell_type": "code",
   "execution_count": 88,
   "id": "e45e48e2",
   "metadata": {},
   "outputs": [],
   "source": [
    "dog_pos_predictions2 = pet_df [pet_df.model2 == 'dog']"
   ]
  },
  {
   "cell_type": "code",
   "execution_count": 90,
   "id": "32014c42",
   "metadata": {},
   "outputs": [
    {
     "data": {
      "text/plain": [
       "0.8931767337807607"
      ]
     },
     "execution_count": 90,
     "metadata": {},
     "output_type": "execute_result"
    }
   ],
   "source": [
    "(dog_pos_predictions2.actual == dog_pos_predictions2.model2).mean()"
   ]
  },
  {
   "cell_type": "code",
   "execution_count": 91,
   "id": "c7f02322",
   "metadata": {},
   "outputs": [],
   "source": [
    "dog_pos_predictions3 = pet_df [pet_df.model3 == 'dog']"
   ]
  },
  {
   "cell_type": "code",
   "execution_count": 92,
   "id": "71b0da68",
   "metadata": {},
   "outputs": [
    {
     "data": {
      "text/plain": [
       "0.6598883572567783"
      ]
     },
     "execution_count": 92,
     "metadata": {},
     "output_type": "execute_result"
    }
   ],
   "source": [
    "(dog_pos_predictions3.actual == dog_pos_predictions3.model3).mean()"
   ]
  },
  {
   "cell_type": "code",
   "execution_count": 93,
   "id": "d086d8e2",
   "metadata": {},
   "outputs": [],
   "source": [
    "dog_pos_predictions4 = pet_df [pet_df.model4 == 'dog']"
   ]
  },
  {
   "cell_type": "code",
   "execution_count": 94,
   "id": "3a815a63",
   "metadata": {},
   "outputs": [
    {
     "data": {
      "text/plain": [
       "0.7312485304490948"
      ]
     },
     "execution_count": 94,
     "metadata": {},
     "output_type": "execute_result"
    }
   ],
   "source": [
    "(dog_pos_predictions4.actual == dog_pos_predictions4.model4).mean()"
   ]
  },
  {
   "cell_type": "markdown",
   "id": "1d6e4b81",
   "metadata": {},
   "source": [
    ">model 1 or model 2 would be best for predicting dog pictures"
   ]
  },
  {
   "cell_type": "markdown",
   "id": "9ec555f1",
   "metadata": {},
   "source": [
    "c. Suppose you are working on a team that solely deals with cat pictures. Which of these models would you recommend?"
   ]
  },
  {
   "cell_type": "markdown",
   "id": "04fedaf0",
   "metadata": {},
   "source": [
    ">precision to minimize false positives to avoid dog pictures"
   ]
  },
  {
   "cell_type": "code",
   "execution_count": 95,
   "id": "e4a86606",
   "metadata": {},
   "outputs": [
    {
     "name": "stdout",
     "output_type": "stream",
     "text": [
      "for model1 the precision is 0.69\n",
      "for model2 the precision is 0.48\n",
      "for model3 the precision is 0.36\n",
      "for model4 the precision is 0.81\n"
     ]
    }
   ],
   "source": [
    "for col in pet_df.columns[1:]:\n",
    "\n",
    "    pos_predictions = pet_df [pet_df[col] == 'cat']\n",
    "    prec = (pos_predictions.actual == pos_predictions[col]).mean()\n",
    "    \n",
    "    print(f'for {col} the precision is {round(prec,2)}')"
   ]
  },
  {
   "cell_type": "markdown",
   "id": "b5128819",
   "metadata": {},
   "source": [
    ">model4 would be the best fit based on precision"
   ]
  },
  {
   "cell_type": "markdown",
   "id": "07d52226",
   "metadata": {},
   "source": [
    "5. Follow the links below to read the documentation about each function, then apply those functions to the data from the previous problem.\n",
    "\n",
    "sklearn.metrics.accuracy_score\n",
    "sklearn.metrics.precision_score\n",
    "sklearn.metrics.recall_score\n",
    "sklearn.metrics.classification_report"
   ]
  },
  {
   "cell_type": "code",
   "execution_count": 96,
   "id": "bed166e2",
   "metadata": {},
   "outputs": [],
   "source": [
    "from sklearn.metrics import accuracy_score, precision_score, recall_score, classification_report"
   ]
  },
  {
   "cell_type": "code",
   "execution_count": 97,
   "id": "b898dfe6",
   "metadata": {},
   "outputs": [
    {
     "data": {
      "text/plain": [
       "0.8074"
      ]
     },
     "execution_count": 97,
     "metadata": {},
     "output_type": "execute_result"
    }
   ],
   "source": [
    "accuracy_score(pet_df.actual, pet_df.model1)"
   ]
  },
  {
   "cell_type": "code",
   "execution_count": 99,
   "id": "4f0f0689",
   "metadata": {},
   "outputs": [
    {
     "data": {
      "text/plain": [
       "0.8900238338440586"
      ]
     },
     "execution_count": 99,
     "metadata": {},
     "output_type": "execute_result"
    }
   ],
   "source": [
    "precision_score(pet_df.actual, pet_df.model1, pos_label='dog')"
   ]
  },
  {
   "cell_type": "code",
   "execution_count": 98,
   "id": "f2301753",
   "metadata": {},
   "outputs": [
    {
     "data": {
      "text/plain": [
       "0.6897721764420747"
      ]
     },
     "execution_count": 98,
     "metadata": {},
     "output_type": "execute_result"
    }
   ],
   "source": [
    "precision_score(pet_df.actual, pet_df.model1, pos_label='cat')"
   ]
  },
  {
   "cell_type": "code",
   "execution_count": 100,
   "id": "928e44dc",
   "metadata": {},
   "outputs": [
    {
     "data": {
      "text/plain": [
       "0.8150057273768614"
      ]
     },
     "execution_count": 100,
     "metadata": {},
     "output_type": "execute_result"
    }
   ],
   "source": [
    "recall_score(pet_df.actual, pet_df.model1, pos_label='cat')"
   ]
  },
  {
   "cell_type": "code",
   "execution_count": 101,
   "id": "e5870876",
   "metadata": {},
   "outputs": [
    {
     "data": {
      "text/plain": [
       "0.803318992009834"
      ]
     },
     "execution_count": 101,
     "metadata": {},
     "output_type": "execute_result"
    }
   ],
   "source": [
    "recall_score(pet_df.actual, pet_df.model1, pos_label='dog')"
   ]
  },
  {
   "cell_type": "code",
   "execution_count": 102,
   "id": "46521403",
   "metadata": {},
   "outputs": [
    {
     "data": {
      "text/plain": [
       "'              precision    recall  f1-score   support\\n\\n         cat       0.69      0.82      0.75      1746\\n         dog       0.89      0.80      0.84      3254\\n\\n    accuracy                           0.81      5000\\n   macro avg       0.79      0.81      0.80      5000\\nweighted avg       0.82      0.81      0.81      5000\\n'"
      ]
     },
     "execution_count": 102,
     "metadata": {},
     "output_type": "execute_result"
    }
   ],
   "source": [
    "classification_report(pet_df.actual, pet_df.model1)"
   ]
  },
  {
   "cell_type": "code",
   "execution_count": 103,
   "id": "ffc5ed88",
   "metadata": {},
   "outputs": [
    {
     "name": "stdout",
     "output_type": "stream",
     "text": [
      "              precision    recall  f1-score   support\n",
      "\n",
      "         cat       0.69      0.82      0.75      1746\n",
      "         dog       0.89      0.80      0.84      3254\n",
      "\n",
      "    accuracy                           0.81      5000\n",
      "   macro avg       0.79      0.81      0.80      5000\n",
      "weighted avg       0.82      0.81      0.81      5000\n",
      "\n"
     ]
    }
   ],
   "source": [
    "print(classification_report(pet_df.actual, pet_df.model1))"
   ]
  },
  {
   "cell_type": "code",
   "execution_count": null,
   "id": "118d10be",
   "metadata": {},
   "outputs": [],
   "source": []
  }
 ],
 "metadata": {
  "kernelspec": {
   "display_name": "Python 3 (ipykernel)",
   "language": "python",
   "name": "python3"
  },
  "language_info": {
   "codemirror_mode": {
    "name": "ipython",
    "version": 3
   },
   "file_extension": ".py",
   "mimetype": "text/x-python",
   "name": "python",
   "nbconvert_exporter": "python",
   "pygments_lexer": "ipython3",
   "version": "3.11.5"
  }
 },
 "nbformat": 4,
 "nbformat_minor": 5
}
